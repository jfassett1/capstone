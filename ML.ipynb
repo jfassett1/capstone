{
 "cells": [
  {
   "cell_type": "code",
   "execution_count": 67,
   "metadata": {},
   "outputs": [],
   "source": [
    "import pandas as pd\n",
    "import numpy as np\n",
    "import torch\n",
    "from transformers import BertTokenizer, BertModel,DistilBertTokenizer,DistilBertModel\n",
    "import pyarrow as pa\n",
    "import pyarrow.parquet as pq\n",
    "from datetime import datetime\n"
   ]
  },
  {
   "cell_type": "code",
   "execution_count": 68,
   "metadata": {},
   "outputs": [
    {
     "name": "stdout",
     "output_type": "stream",
     "text": [
      "True\n"
     ]
    }
   ],
   "source": [
    "print(torch.cuda.is_available())\n",
    "\n"
   ]
  },
  {
   "cell_type": "code",
   "execution_count": 69,
   "metadata": {},
   "outputs": [
    {
     "data": {
      "text/plain": [
       "0          US says seizes tanker used to evade North Kore...\n",
       "1          Is America the greatest country? Part 1 drops ...\n",
       "2          O’Reilly predicts THIS is What DOOMS Biden’s r...\n",
       "3               Corruption in Politics [HASH] [HASH]  [LINK]\n",
       "4          @kylegriffin1 Are you getting all the info on ...\n",
       "                                 ...                        \n",
       "2367603                  Like me. Share me. Follow me [LINK]\n",
       "2367604                .the main thing is to was love [LINK]\n",
       "2367605    Amazing! Found my script: Download ReBuild - W...\n",
       "2367606                               Present Perfect [LINK]\n",
       "2367607                             GoPro SummerStory [LINK]\n",
       "Name: content, Length: 2367608, dtype: object"
      ]
     },
     "execution_count": 69,
     "metadata": {},
     "output_type": "execute_result"
    }
   ],
   "source": [
    "df = pd.read_csv(\"src/transformed/data.csv\")\n",
    "# df = df.iloc[:10000]\n",
    "textcol = df['content']\n",
    "textcol"
   ]
  },
  {
   "cell_type": "code",
   "execution_count": 70,
   "metadata": {},
   "outputs": [
    {
     "data": {
      "text/plain": [
       "DistilBertModel(\n",
       "  (embeddings): Embeddings(\n",
       "    (word_embeddings): Embedding(28996, 768, padding_idx=0)\n",
       "    (position_embeddings): Embedding(512, 768)\n",
       "    (LayerNorm): LayerNorm((768,), eps=1e-12, elementwise_affine=True)\n",
       "    (dropout): Dropout(p=0.1, inplace=False)\n",
       "  )\n",
       "  (transformer): Transformer(\n",
       "    (layer): ModuleList(\n",
       "      (0-5): 6 x TransformerBlock(\n",
       "        (attention): MultiHeadSelfAttention(\n",
       "          (dropout): Dropout(p=0.1, inplace=False)\n",
       "          (q_lin): Linear(in_features=768, out_features=768, bias=True)\n",
       "          (k_lin): Linear(in_features=768, out_features=768, bias=True)\n",
       "          (v_lin): Linear(in_features=768, out_features=768, bias=True)\n",
       "          (out_lin): Linear(in_features=768, out_features=768, bias=True)\n",
       "        )\n",
       "        (sa_layer_norm): LayerNorm((768,), eps=1e-12, elementwise_affine=True)\n",
       "        (ffn): FFN(\n",
       "          (dropout): Dropout(p=0.1, inplace=False)\n",
       "          (lin1): Linear(in_features=768, out_features=3072, bias=True)\n",
       "          (lin2): Linear(in_features=3072, out_features=768, bias=True)\n",
       "          (activation): GELUActivation()\n",
       "        )\n",
       "        (output_layer_norm): LayerNorm((768,), eps=1e-12, elementwise_affine=True)\n",
       "      )\n",
       "    )\n",
       "  )\n",
       ")"
      ]
     },
     "execution_count": 70,
     "metadata": {},
     "output_type": "execute_result"
    }
   ],
   "source": [
    "# Ensure CUDA is available\n",
    "device = torch.device(\"cuda\" if torch.cuda.is_available() else \"cpu\")\n",
    "\n",
    "\n",
    "\n",
    "modeltype = \"DBert\"\n",
    "# Load a pre-trained BERT model and tokenizer\n",
    "\n",
    "if modeltype == \"DBert\":\n",
    "    tokenizer = DistilBertTokenizer.from_pretrained('distilbert-base-cased')\n",
    "    model = DistilBertModel.from_pretrained('distilbert-base-cased')\n",
    "else:\n",
    "    tokenizer = BertTokenizer.from_pretrained('bert-base-cased')\n",
    "    model = BertModel.from_pretrained('bert-base-cased')\n",
    "\n",
    "\n",
    "# Move the model to the GPU\n",
    "model = model.to(device)\n",
    "model.eval()\n"
   ]
  },
  {
   "cell_type": "code",
   "execution_count": 71,
   "metadata": {},
   "outputs": [
    {
     "name": "stdout",
     "output_type": "stream",
     "text": [
      "Processing Batch 1/8\n",
      "Current Batch memory use: 2367.74 MB\n",
      "0/2367608 -- 0.0%"
     ]
    },
    {
     "name": "stdout",
     "output_type": "stream",
     "text": [
      "293632/2367608 -- 12.4021%Batch 0 Complete -- Time: 2024-03-07 21:51:43.400905\n",
      "\n",
      "Processing Batch 2/8\n",
      "Current Batch memory use: 2367.74 MB\n",
      "589632/2367608 -- 24.9041%Batch 1 Complete -- Time: 2024-03-07 22:36:11.705035\n",
      "\n",
      "Processing Batch 3/8\n",
      "Current Batch memory use: 2367.74 MB\n",
      "885632/2367608 -- 37.4062%Batch 2 Complete -- Time: 2024-03-07 23:24:02.391604\n",
      "\n",
      "Processing Batch 4/8\n",
      "Current Batch memory use: 2367.74 MB\n",
      "1181632/2367608 -- 49.9083%Batch 3 Complete -- Time: 2024-03-08 00:16:01.508708\n",
      "\n",
      "Processing Batch 5/8\n",
      "Current Batch memory use: 2367.74 MB\n",
      "1302400/2367608 -- 55.0091%"
     ]
    }
   ],
   "source": [
    "torch.cuda.empty_cache()\n",
    "def vectorize_text(text, tokenizer, model):\n",
    "    # Tokenize input text and convert to tensor\n",
    "    inputs = tokenizer(text, return_tensors=\"pt\", truncation=True, max_length=512, padding=True)\n",
    "    \n",
    "    # Move inputs to the same device as the model\n",
    "    if torch.cuda.is_available():\n",
    "        inputs = {k: v.to('cuda') for k, v in inputs.items()}\n",
    "    \n",
    "    # Get embeddings\n",
    "    with torch.no_grad():\n",
    "        outputs = model(**inputs)\n",
    "    \n",
    "    # Pool the outputs and convert to numpy array\n",
    "    # Here, we simply take the mean of the second to last hidden layer\n",
    "    embeddings = outputs.last_hidden_state.mean(dim=1).cpu().numpy()\n",
    "    \n",
    "    return embeddings\n",
    "\n",
    "\n",
    "def print_gpu_memory():\n",
    "    allocated = torch.cuda.memory_allocated(0)\n",
    "    cached = torch.cuda.memory_reserved(0)\n",
    "    print(f\"GPU Memory - Allocated: {allocated / 1e9:.2f} GB, Cached: {cached / 1e9:.2f} GB\")\n",
    "\n",
    "batches = 8\n",
    "batch_size = len(textcol) // batches\n",
    "embedded_content = []\n",
    "\n",
    "for batch in range(batches):\n",
    "    print(f\"\\rProcessing Batch {batch+1}/{batches}\\n\",end=\"\",flush=True)\n",
    "    start_idx = batch * batch_size\n",
    "    end_idx = start_idx + batch_size if batch < batches - 1 else len(textcol)\n",
    "    #Defining dataframe and embedded vector. Will combine these and save as pyarrow file\n",
    "    dfbatch = df.iloc[start_idx:end_idx]\n",
    "    print(\"Current Batch memory use:\",dfbatch['content'].memory_usage()/1000,\"MB\")\n",
    "    embedded_content = []\n",
    "    for idx, value in enumerate(textcol.iloc[start_idx:end_idx], start=start_idx):\n",
    "        if idx % 2368 == 0:\n",
    "            print(f\"\\r{idx}/{len(textcol)} -- {round((idx/len(textcol))*100,4)}%\", end='', flush=True)\n",
    "        embedded_content.append(vectorize_text(value, tokenizer, model))\n",
    "    print(f\"Batch {batch} Complete -- Time: {datetime.now()}\\n\")\n",
    "    embedded_content_array = np.array(embedded_content)\n",
    "    np.save(f'src/embedded/embedded_text{batch}.npy', embedded_content_array)\n",
    "\n",
    "    torch.cuda.empty_cache()\n",
    "\n",
    "\n",
    "\n",
    "# df.to_csv(\"src/transformed/bertdata.csv\", index=False)"
   ]
  },
  {
   "cell_type": "code",
   "execution_count": null,
   "metadata": {},
   "outputs": [
    {
     "data": {
      "text/plain": [
       "36424.73846153846"
      ]
     },
     "execution_count": 21,
     "metadata": {},
     "output_type": "execute_result"
    }
   ],
   "source": []
  }
 ],
 "metadata": {
  "kernelspec": {
   "display_name": "Python 3",
   "language": "python",
   "name": "python3"
  },
  "language_info": {
   "codemirror_mode": {
    "name": "ipython",
    "version": 3
   },
   "file_extension": ".py",
   "mimetype": "text/x-python",
   "name": "python",
   "nbconvert_exporter": "python",
   "pygments_lexer": "ipython3",
   "version": "3.11.5"
  }
 },
 "nbformat": 4,
 "nbformat_minor": 2
}
