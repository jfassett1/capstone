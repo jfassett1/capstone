{
 "cells": [
  {
   "cell_type": "code",
   "execution_count": 2,
   "metadata": {},
   "outputs": [],
   "source": [
    "import pandas as pd\n",
    "import numpy as np\n",
    "\n",
    "import re\n",
    "import matplotlib.pyplot as plt\n",
    "from transformers import BertTokenizer\n"
   ]
  },
  {
   "cell_type": "code",
   "execution_count": 3,
   "metadata": {},
   "outputs": [
    {
     "name": "stderr",
     "output_type": "stream",
     "text": [
      "C:\\Users\\Jayden\\AppData\\Local\\Temp\\ipykernel_15956\\3022758360.py:6: DtypeWarning: Columns (12) have mixed types. Specify dtype option on import or set low_memory=False.\n",
      "  genuine = pd.read_csv(\"data/genuine/Political_tweets.csv\")\n"
     ]
    }
   ],
   "source": [
    "dataframes = []\n",
    "for i in range(9):\n",
    "    dataframes.append(pd.read_csv(f\"data/trolls/IRAhandle_tweets_{i+1}.csv\"))\n",
    "trolldata = pd.concat(dataframes)\n",
    "\n",
    "genuine = pd.read_csv(\"data/genuine/Political_tweets.csv\")\n"
   ]
  },
  {
   "cell_type": "markdown",
   "metadata": {},
   "source": [
    "***Data Pre-Processing***"
   ]
  },
  {
   "cell_type": "markdown",
   "metadata": {},
   "source": [
    "**Removing Non-English entries**"
   ]
  },
  {
   "cell_type": "code",
   "execution_count": 4,
   "metadata": {},
   "outputs": [
    {
     "data": {
      "text/html": [
       "<div>\n",
       "<style scoped>\n",
       "    .dataframe tbody tr th:only-of-type {\n",
       "        vertical-align: middle;\n",
       "    }\n",
       "\n",
       "    .dataframe tbody tr th {\n",
       "        vertical-align: top;\n",
       "    }\n",
       "\n",
       "    .dataframe thead th {\n",
       "        text-align: right;\n",
       "    }\n",
       "</style>\n",
       "<table border=\"1\" class=\"dataframe\">\n",
       "  <thead>\n",
       "    <tr style=\"text-align: right;\">\n",
       "      <th></th>\n",
       "      <th>external_author_id</th>\n",
       "      <th>author</th>\n",
       "      <th>content</th>\n",
       "      <th>region</th>\n",
       "      <th>language</th>\n",
       "      <th>publish_date</th>\n",
       "      <th>harvested_date</th>\n",
       "      <th>following</th>\n",
       "      <th>followers</th>\n",
       "      <th>updates</th>\n",
       "      <th>post_type</th>\n",
       "      <th>account_type</th>\n",
       "      <th>new_june_2018</th>\n",
       "      <th>retweet</th>\n",
       "      <th>account_category</th>\n",
       "    </tr>\n",
       "  </thead>\n",
       "  <tbody>\n",
       "    <tr>\n",
       "      <th>0</th>\n",
       "      <td>9.060000e+17</td>\n",
       "      <td>10_GOP</td>\n",
       "      <td>\"We have a sitting Democrat US Senator on tria...</td>\n",
       "      <td>Unknown</td>\n",
       "      <td>English</td>\n",
       "      <td>10/1/2017 19:58</td>\n",
       "      <td>10/1/2017 19:59</td>\n",
       "      <td>1052</td>\n",
       "      <td>9636</td>\n",
       "      <td>253</td>\n",
       "      <td>NaN</td>\n",
       "      <td>Right</td>\n",
       "      <td>0</td>\n",
       "      <td>0</td>\n",
       "      <td>RightTroll</td>\n",
       "    </tr>\n",
       "    <tr>\n",
       "      <th>1</th>\n",
       "      <td>9.060000e+17</td>\n",
       "      <td>10_GOP</td>\n",
       "      <td>Marshawn Lynch arrives to game in anti-Trump s...</td>\n",
       "      <td>Unknown</td>\n",
       "      <td>English</td>\n",
       "      <td>10/1/2017 22:43</td>\n",
       "      <td>10/1/2017 22:43</td>\n",
       "      <td>1054</td>\n",
       "      <td>9637</td>\n",
       "      <td>254</td>\n",
       "      <td>NaN</td>\n",
       "      <td>Right</td>\n",
       "      <td>0</td>\n",
       "      <td>0</td>\n",
       "      <td>RightTroll</td>\n",
       "    </tr>\n",
       "    <tr>\n",
       "      <th>2</th>\n",
       "      <td>9.060000e+17</td>\n",
       "      <td>10_GOP</td>\n",
       "      <td>Daughter of fallen Navy Sailor delivers powerf...</td>\n",
       "      <td>Unknown</td>\n",
       "      <td>English</td>\n",
       "      <td>10/1/2017 22:50</td>\n",
       "      <td>10/1/2017 22:51</td>\n",
       "      <td>1054</td>\n",
       "      <td>9637</td>\n",
       "      <td>255</td>\n",
       "      <td>RETWEET</td>\n",
       "      <td>Right</td>\n",
       "      <td>0</td>\n",
       "      <td>1</td>\n",
       "      <td>RightTroll</td>\n",
       "    </tr>\n",
       "    <tr>\n",
       "      <th>3</th>\n",
       "      <td>9.060000e+17</td>\n",
       "      <td>10_GOP</td>\n",
       "      <td>JUST IN: President Trump dedicates Presidents ...</td>\n",
       "      <td>Unknown</td>\n",
       "      <td>English</td>\n",
       "      <td>10/1/2017 23:52</td>\n",
       "      <td>10/1/2017 23:52</td>\n",
       "      <td>1062</td>\n",
       "      <td>9642</td>\n",
       "      <td>256</td>\n",
       "      <td>NaN</td>\n",
       "      <td>Right</td>\n",
       "      <td>0</td>\n",
       "      <td>0</td>\n",
       "      <td>RightTroll</td>\n",
       "    </tr>\n",
       "    <tr>\n",
       "      <th>4</th>\n",
       "      <td>9.060000e+17</td>\n",
       "      <td>10_GOP</td>\n",
       "      <td>19,000 RESPECTING our National Anthem! #StandF...</td>\n",
       "      <td>Unknown</td>\n",
       "      <td>English</td>\n",
       "      <td>10/1/2017 2:13</td>\n",
       "      <td>10/1/2017 2:13</td>\n",
       "      <td>1050</td>\n",
       "      <td>9645</td>\n",
       "      <td>246</td>\n",
       "      <td>RETWEET</td>\n",
       "      <td>Right</td>\n",
       "      <td>0</td>\n",
       "      <td>1</td>\n",
       "      <td>RightTroll</td>\n",
       "    </tr>\n",
       "    <tr>\n",
       "      <th>...</th>\n",
       "      <td>...</td>\n",
       "      <td>...</td>\n",
       "      <td>...</td>\n",
       "      <td>...</td>\n",
       "      <td>...</td>\n",
       "      <td>...</td>\n",
       "      <td>...</td>\n",
       "      <td>...</td>\n",
       "      <td>...</td>\n",
       "      <td>...</td>\n",
       "      <td>...</td>\n",
       "      <td>...</td>\n",
       "      <td>...</td>\n",
       "      <td>...</td>\n",
       "      <td>...</td>\n",
       "    </tr>\n",
       "    <tr>\n",
       "      <th>36991</th>\n",
       "      <td>3.093874e+09</td>\n",
       "      <td>_YOUR_LIFESTYLE</td>\n",
       "      <td>Like me. Share me. Follow me http://t.co/VvhUO...</td>\n",
       "      <td>Unknown</td>\n",
       "      <td>English</td>\n",
       "      <td>10/8/2015 15:01</td>\n",
       "      <td>10/8/2015 15:01</td>\n",
       "      <td>59</td>\n",
       "      <td>13</td>\n",
       "      <td>458</td>\n",
       "      <td>NaN</td>\n",
       "      <td>Russian</td>\n",
       "      <td>0</td>\n",
       "      <td>0</td>\n",
       "      <td>NonEnglish</td>\n",
       "    </tr>\n",
       "    <tr>\n",
       "      <th>37053</th>\n",
       "      <td>3.093874e+09</td>\n",
       "      <td>_YOUR_LIFESTYLE</td>\n",
       "      <td>.the main thing is to was love https://t.co/oq...</td>\n",
       "      <td>Unknown</td>\n",
       "      <td>English</td>\n",
       "      <td>11/4/2015 8:24</td>\n",
       "      <td>11/4/2015 8:25</td>\n",
       "      <td>68</td>\n",
       "      <td>23</td>\n",
       "      <td>518</td>\n",
       "      <td>NaN</td>\n",
       "      <td>Russian</td>\n",
       "      <td>0</td>\n",
       "      <td>0</td>\n",
       "      <td>NonEnglish</td>\n",
       "    </tr>\n",
       "    <tr>\n",
       "      <th>37337</th>\n",
       "      <td>3.093874e+09</td>\n",
       "      <td>_YOUR_LIFESTYLE</td>\n",
       "      <td>Amazing! Found my script: Download ReBuild - W...</td>\n",
       "      <td>United States</td>\n",
       "      <td>English</td>\n",
       "      <td>6/25/2016 11:27</td>\n",
       "      <td>6/25/2016 11:28</td>\n",
       "      <td>40</td>\n",
       "      <td>40</td>\n",
       "      <td>817</td>\n",
       "      <td>NaN</td>\n",
       "      <td>Russian</td>\n",
       "      <td>0</td>\n",
       "      <td>0</td>\n",
       "      <td>NonEnglish</td>\n",
       "    </tr>\n",
       "    <tr>\n",
       "      <th>37410</th>\n",
       "      <td>3.093874e+09</td>\n",
       "      <td>_YOUR_LIFESTYLE</td>\n",
       "      <td>Present Perfect http://t.co/vNu3i2Xh4M</td>\n",
       "      <td>Unknown</td>\n",
       "      <td>English</td>\n",
       "      <td>7/31/2015 18:35</td>\n",
       "      <td>7/31/2015 18:36</td>\n",
       "      <td>59</td>\n",
       "      <td>4</td>\n",
       "      <td>305</td>\n",
       "      <td>NaN</td>\n",
       "      <td>Russian</td>\n",
       "      <td>0</td>\n",
       "      <td>0</td>\n",
       "      <td>NonEnglish</td>\n",
       "    </tr>\n",
       "    <tr>\n",
       "      <th>37431</th>\n",
       "      <td>3.093874e+09</td>\n",
       "      <td>_YOUR_LIFESTYLE</td>\n",
       "      <td>GoPro SummerStory http://t.co/2afDrn7jWh</td>\n",
       "      <td>Unknown</td>\n",
       "      <td>English</td>\n",
       "      <td>8/13/2015 11:19</td>\n",
       "      <td>8/13/2015 11:20</td>\n",
       "      <td>60</td>\n",
       "      <td>4</td>\n",
       "      <td>344</td>\n",
       "      <td>NaN</td>\n",
       "      <td>Russian</td>\n",
       "      <td>0</td>\n",
       "      <td>0</td>\n",
       "      <td>NonEnglish</td>\n",
       "    </tr>\n",
       "  </tbody>\n",
       "</table>\n",
       "<p>2128963 rows × 15 columns</p>\n",
       "</div>"
      ],
      "text/plain": [
       "       external_author_id           author  \\\n",
       "0            9.060000e+17           10_GOP   \n",
       "1            9.060000e+17           10_GOP   \n",
       "2            9.060000e+17           10_GOP   \n",
       "3            9.060000e+17           10_GOP   \n",
       "4            9.060000e+17           10_GOP   \n",
       "...                   ...              ...   \n",
       "36991        3.093874e+09  _YOUR_LIFESTYLE   \n",
       "37053        3.093874e+09  _YOUR_LIFESTYLE   \n",
       "37337        3.093874e+09  _YOUR_LIFESTYLE   \n",
       "37410        3.093874e+09  _YOUR_LIFESTYLE   \n",
       "37431        3.093874e+09  _YOUR_LIFESTYLE   \n",
       "\n",
       "                                                 content         region  \\\n",
       "0      \"We have a sitting Democrat US Senator on tria...        Unknown   \n",
       "1      Marshawn Lynch arrives to game in anti-Trump s...        Unknown   \n",
       "2      Daughter of fallen Navy Sailor delivers powerf...        Unknown   \n",
       "3      JUST IN: President Trump dedicates Presidents ...        Unknown   \n",
       "4      19,000 RESPECTING our National Anthem! #StandF...        Unknown   \n",
       "...                                                  ...            ...   \n",
       "36991  Like me. Share me. Follow me http://t.co/VvhUO...        Unknown   \n",
       "37053  .the main thing is to was love https://t.co/oq...        Unknown   \n",
       "37337  Amazing! Found my script: Download ReBuild - W...  United States   \n",
       "37410             Present Perfect http://t.co/vNu3i2Xh4M        Unknown   \n",
       "37431           GoPro SummerStory http://t.co/2afDrn7jWh        Unknown   \n",
       "\n",
       "      language     publish_date   harvested_date  following  followers  \\\n",
       "0      English  10/1/2017 19:58  10/1/2017 19:59       1052       9636   \n",
       "1      English  10/1/2017 22:43  10/1/2017 22:43       1054       9637   \n",
       "2      English  10/1/2017 22:50  10/1/2017 22:51       1054       9637   \n",
       "3      English  10/1/2017 23:52  10/1/2017 23:52       1062       9642   \n",
       "4      English   10/1/2017 2:13   10/1/2017 2:13       1050       9645   \n",
       "...        ...              ...              ...        ...        ...   \n",
       "36991  English  10/8/2015 15:01  10/8/2015 15:01         59         13   \n",
       "37053  English   11/4/2015 8:24   11/4/2015 8:25         68         23   \n",
       "37337  English  6/25/2016 11:27  6/25/2016 11:28         40         40   \n",
       "37410  English  7/31/2015 18:35  7/31/2015 18:36         59          4   \n",
       "37431  English  8/13/2015 11:19  8/13/2015 11:20         60          4   \n",
       "\n",
       "       updates post_type account_type  new_june_2018  retweet account_category  \n",
       "0          253       NaN        Right              0        0       RightTroll  \n",
       "1          254       NaN        Right              0        0       RightTroll  \n",
       "2          255   RETWEET        Right              0        1       RightTroll  \n",
       "3          256       NaN        Right              0        0       RightTroll  \n",
       "4          246   RETWEET        Right              0        1       RightTroll  \n",
       "...        ...       ...          ...            ...      ...              ...  \n",
       "36991      458       NaN      Russian              0        0       NonEnglish  \n",
       "37053      518       NaN      Russian              0        0       NonEnglish  \n",
       "37337      817       NaN      Russian              0        0       NonEnglish  \n",
       "37410      305       NaN      Russian              0        0       NonEnglish  \n",
       "37431      344       NaN      Russian              0        0       NonEnglish  \n",
       "\n",
       "[2128963 rows x 15 columns]"
      ]
     },
     "execution_count": 4,
     "metadata": {},
     "output_type": "execute_result"
    }
   ],
   "source": [
    "#Removing non-english entries\n",
    "troll = trolldata[trolldata[\"language\"] == \"English\"]\n",
    "# genuine.iloc[:100_000]\n",
    "troll"
   ]
  },
  {
   "cell_type": "markdown",
   "metadata": {},
   "source": [
    "**Finding any instances of known troll authors in genuine dataset**"
   ]
  },
  {
   "cell_type": "code",
   "execution_count": 5,
   "metadata": {},
   "outputs": [
    {
     "name": "stdout",
     "output_type": "stream",
     "text": [
      "Found 0 matches: []\n"
     ]
    }
   ],
   "source": [
    "#Getting list of troll authors\n",
    "trollauthors = []\n",
    "for author in troll['author'].unique():\n",
    "    trollauthors.append(author)\n",
    "trollauthors\n",
    "\n",
    "#Getting list of genuine authors\n",
    "genuineauthors = genuine['user_name'].apply(lambda x: x.upper() if isinstance(x, str) else x)\n",
    "\n",
    "#Searching for identical names\n",
    "\n",
    "matches = []\n",
    "for rname,tname in zip(genuineauthors,trollauthors):\n",
    "    if rname == tname:\n",
    "        matches.append(rname)\n",
    "\n",
    "print(f\"Found {len(matches)} matches: {matches}\")\n",
    "\n"
   ]
  },
  {
   "cell_type": "markdown",
   "metadata": {},
   "source": [
    "**Removal of unique metadata**<br>\n",
    "We can't have any metadata that is strictly limited to one dataset. That will instantly cause bias.\n",
    "\n",
    "I also removed information about the authors of the tweet.\n",
    "\n",
    "In addition, column names have been changed to fit to the troll dataset"
   ]
  },
  {
   "cell_type": "code",
   "execution_count": 6,
   "metadata": {},
   "outputs": [
    {
     "name": "stderr",
     "output_type": "stream",
     "text": [
      "C:\\Users\\Jayden\\AppData\\Local\\Temp\\ipykernel_15956\\1357675685.py:1: SettingWithCopyWarning: \n",
      "A value is trying to be set on a copy of a slice from a DataFrame\n",
      "\n",
      "See the caveats in the documentation: https://pandas.pydata.org/pandas-docs/stable/user_guide/indexing.html#returning-a-view-versus-a-copy\n",
      "  troll.drop(columns=[\"language\",\"harvested_date\",\"publish_date\",\"external_author_id\",\"following\",\"account_type\",\"new_june_2018\",\"region\",\"post_type\",\"updates\",\"account_category\"],inplace=True)\n",
      "C:\\Users\\Jayden\\AppData\\Local\\Temp\\ipykernel_15956\\1357675685.py:2: SettingWithCopyWarning: \n",
      "A value is trying to be set on a copy of a slice from a DataFrame\n",
      "\n",
      "See the caveats in the documentation: https://pandas.pydata.org/pandas-docs/stable/user_guide/indexing.html#returning-a-view-versus-a-copy\n",
      "  troll.drop(columns=[\"author\"],inplace=True)\n"
     ]
    }
   ],
   "source": [
    "troll.drop(columns=[\"language\",\"harvested_date\",\"publish_date\",\"external_author_id\",\"following\",\"account_type\",\"new_june_2018\",\"region\",\"post_type\",\"updates\",\"account_category\"],inplace=True)\n",
    "troll.drop(columns=[\"author\"],inplace=True)\n",
    "genuine.drop(columns=['user_name','user_location','user_description','user_created','user_friends','user_favourites','user_verified','date','hashtags','source'],inplace=True)\n",
    "\n",
    "namechanges = {\n",
    "\"user_followers\":\"followers\",\n",
    "\"is_retweet\":\"retweet\",\n",
    "\"text\":\"content\",\n",
    "\n",
    "}\n",
    "\n",
    "genuine.rename(columns=namechanges,inplace=True)\n",
    "\n"
   ]
  },
  {
   "cell_type": "markdown",
   "metadata": {},
   "source": [
    "**Add labels to datasets and concatenate**"
   ]
  },
  {
   "cell_type": "code",
   "execution_count": 7,
   "metadata": {},
   "outputs": [
    {
     "data": {
      "text/plain": [
       "array([False, nan], dtype=object)"
      ]
     },
     "execution_count": 7,
     "metadata": {},
     "output_type": "execute_result"
    }
   ],
   "source": [
    "genuine['retweet'].unique()"
   ]
  },
  {
   "cell_type": "code",
   "execution_count": 8,
   "metadata": {},
   "outputs": [
    {
     "name": "stderr",
     "output_type": "stream",
     "text": [
      "C:\\Users\\Jayden\\AppData\\Local\\Temp\\ipykernel_15956\\3308870631.py:7: SettingWithCopyWarning: \n",
      "A value is trying to be set on a copy of a slice from a DataFrame.\n",
      "Try using .loc[row_indexer,col_indexer] = value instead\n",
      "\n",
      "See the caveats in the documentation: https://pandas.pydata.org/pandas-docs/stable/user_guide/indexing.html#returning-a-view-versus-a-copy\n",
      "  troll['troll'] = trolabels\n"
     ]
    },
    {
     "data": {
      "text/html": [
       "<div>\n",
       "<style scoped>\n",
       "    .dataframe tbody tr th:only-of-type {\n",
       "        vertical-align: middle;\n",
       "    }\n",
       "\n",
       "    .dataframe tbody tr th {\n",
       "        vertical-align: top;\n",
       "    }\n",
       "\n",
       "    .dataframe thead th {\n",
       "        text-align: right;\n",
       "    }\n",
       "</style>\n",
       "<table border=\"1\" class=\"dataframe\">\n",
       "  <thead>\n",
       "    <tr style=\"text-align: right;\">\n",
       "      <th></th>\n",
       "      <th>followers</th>\n",
       "      <th>content</th>\n",
       "      <th>retweet</th>\n",
       "      <th>troll</th>\n",
       "    </tr>\n",
       "  </thead>\n",
       "  <tbody>\n",
       "    <tr>\n",
       "      <th>0</th>\n",
       "      <td>711.0</td>\n",
       "      <td>US says seizes tanker used to evade North Kore...</td>\n",
       "      <td>0</td>\n",
       "      <td>0.0</td>\n",
       "    </tr>\n",
       "    <tr>\n",
       "      <th>1</th>\n",
       "      <td>3.0</td>\n",
       "      <td>Is America the greatest country? Part 1 drops ...</td>\n",
       "      <td>0</td>\n",
       "      <td>0.0</td>\n",
       "    </tr>\n",
       "    <tr>\n",
       "      <th>2</th>\n",
       "      <td>36219.0</td>\n",
       "      <td>O’Reilly predicts THIS is What DOOMS Biden’s r...</td>\n",
       "      <td>0</td>\n",
       "      <td>0.0</td>\n",
       "    </tr>\n",
       "    <tr>\n",
       "      <th>3</th>\n",
       "      <td>2426.0</td>\n",
       "      <td>Corruption in Politics\\n#blog #politics \\nhttp...</td>\n",
       "      <td>0</td>\n",
       "      <td>0.0</td>\n",
       "    </tr>\n",
       "    <tr>\n",
       "      <th>4</th>\n",
       "      <td>13763.0</td>\n",
       "      <td>@kylegriffin1 Are you getting all the info on ...</td>\n",
       "      <td>0</td>\n",
       "      <td>0.0</td>\n",
       "    </tr>\n",
       "    <tr>\n",
       "      <th>...</th>\n",
       "      <td>...</td>\n",
       "      <td>...</td>\n",
       "      <td>...</td>\n",
       "      <td>...</td>\n",
       "    </tr>\n",
       "    <tr>\n",
       "      <th>2128958</th>\n",
       "      <td>13.0</td>\n",
       "      <td>Like me. Share me. Follow me http://t.co/VvhUO...</td>\n",
       "      <td>0</td>\n",
       "      <td>1.0</td>\n",
       "    </tr>\n",
       "    <tr>\n",
       "      <th>2128959</th>\n",
       "      <td>23.0</td>\n",
       "      <td>.the main thing is to was love https://t.co/oq...</td>\n",
       "      <td>0</td>\n",
       "      <td>1.0</td>\n",
       "    </tr>\n",
       "    <tr>\n",
       "      <th>2128960</th>\n",
       "      <td>40.0</td>\n",
       "      <td>Amazing! Found my script: Download ReBuild - W...</td>\n",
       "      <td>0</td>\n",
       "      <td>1.0</td>\n",
       "    </tr>\n",
       "    <tr>\n",
       "      <th>2128961</th>\n",
       "      <td>4.0</td>\n",
       "      <td>Present Perfect http://t.co/vNu3i2Xh4M</td>\n",
       "      <td>0</td>\n",
       "      <td>1.0</td>\n",
       "    </tr>\n",
       "    <tr>\n",
       "      <th>2128962</th>\n",
       "      <td>4.0</td>\n",
       "      <td>GoPro SummerStory http://t.co/2afDrn7jWh</td>\n",
       "      <td>0</td>\n",
       "      <td>1.0</td>\n",
       "    </tr>\n",
       "  </tbody>\n",
       "</table>\n",
       "<p>2367609 rows × 4 columns</p>\n",
       "</div>"
      ],
      "text/plain": [
       "         followers                                            content  \\\n",
       "0            711.0  US says seizes tanker used to evade North Kore...   \n",
       "1              3.0  Is America the greatest country? Part 1 drops ...   \n",
       "2          36219.0  O’Reilly predicts THIS is What DOOMS Biden’s r...   \n",
       "3           2426.0  Corruption in Politics\\n#blog #politics \\nhttp...   \n",
       "4          13763.0  @kylegriffin1 Are you getting all the info on ...   \n",
       "...            ...                                                ...   \n",
       "2128958       13.0  Like me. Share me. Follow me http://t.co/VvhUO...   \n",
       "2128959       23.0  .the main thing is to was love https://t.co/oq...   \n",
       "2128960       40.0  Amazing! Found my script: Download ReBuild - W...   \n",
       "2128961        4.0             Present Perfect http://t.co/vNu3i2Xh4M   \n",
       "2128962        4.0           GoPro SummerStory http://t.co/2afDrn7jWh   \n",
       "\n",
       "         retweet  troll  \n",
       "0              0    0.0  \n",
       "1              0    0.0  \n",
       "2              0    0.0  \n",
       "3              0    0.0  \n",
       "4              0    0.0  \n",
       "...          ...    ...  \n",
       "2128958        0    1.0  \n",
       "2128959        0    1.0  \n",
       "2128960        0    1.0  \n",
       "2128961        0    1.0  \n",
       "2128962        0    1.0  \n",
       "\n",
       "[2367609 rows x 4 columns]"
      ]
     },
     "execution_count": 8,
     "metadata": {},
     "output_type": "execute_result"
    }
   ],
   "source": [
    "genlabels = np.zeros(shape=(len(genuine),1))\n",
    "\n",
    "\n",
    "trolabels = np.ones(shape=(len(troll),1))\n",
    "\n",
    "genuine['troll'] = genlabels\n",
    "troll['troll'] = trolabels\n",
    "genuine['retweet'] = genuine['retweet'].apply(lambda x: 0 if x == False else 1)\n",
    "\n",
    "bigdataset = pd.concat([genuine.reset_index(drop=True), troll.reset_index(drop=True)], axis=0)\n",
    "bigdataset\n"
   ]
  },
  {
   "cell_type": "code",
   "execution_count": 9,
   "metadata": {},
   "outputs": [
    {
     "data": {
      "text/plain": [
       "1"
      ]
     },
     "execution_count": 9,
     "metadata": {},
     "output_type": "execute_result"
    }
   ],
   "source": [
    "bigdataset.isna().sum().sum()"
   ]
  },
  {
   "cell_type": "markdown",
   "metadata": {},
   "source": [
    "**Normalization**\n",
    "The only column that needs normalization at this stage is followers. So I min-max normalized it"
   ]
  },
  {
   "cell_type": "code",
   "execution_count": 10,
   "metadata": {},
   "outputs": [],
   "source": [
    "x = bigdataset['followers']\n",
    "def logscaling(x):\n",
    "    scaled = np.log(x+1)\n",
    "    return scaled\n",
    "\n",
    "logscaled = logscaling(x).value_counts()\n",
    "\n",
    "# plt.bar(logscaled.index,height=logscaled)\n",
    "# plt.xlabel(\"Followers\")\n",
    "# plt.ylabel(\"Users\")\n",
    "# plt.title(\"Distribution of Followers (Log scaled)\")\n",
    "# plt.show()\n",
    "\n",
    "\n",
    "#Normalizing Dataset\n",
    "bigdataset['followers'] = logscaling(bigdataset['followers'])"
   ]
  },
  {
   "cell_type": "code",
   "execution_count": 11,
   "metadata": {},
   "outputs": [
    {
     "data": {
      "text/plain": [
       "'\\nMinmax Scaling (not good for this specific distribution)\\n\\n'"
      ]
     },
     "execution_count": 11,
     "metadata": {},
     "output_type": "execute_result"
    }
   ],
   "source": [
    "\"\"\"\n",
    "Minmax Scaling (not good for this specific distribution)\n",
    "\n",
    "\"\"\"\n",
    "# def minmax(iter:pd.Series):\n",
    "#     mx = iter.max()\n",
    "#     min = iter.min()\n",
    "#     normalized = []\n",
    "#     for val in iter:\n",
    "#         normalized.append( (val - min)/mx-min)\n",
    "#     return pd.Series(normalized)\n",
    "\n",
    "# 4\n",
    "# bigdataset['followers'] = minmax(bigdataset['followers'])\n",
    "# bigdataset.reset_index(inplace=True)\n"
   ]
  },
  {
   "cell_type": "markdown",
   "metadata": {},
   "source": [
    "**Preparation for Transformer input. Part 1**\n",
    "I created two special tokens that help cut down the input length. \n",
    "\n",
    "*[LINK]* represents links and *[HASH]* represents hashtags"
   ]
  },
  {
   "cell_type": "code",
   "execution_count": 12,
   "metadata": {},
   "outputs": [],
   "source": [
    "\n",
    "#Removes any instance of a non-string input. I decided this was better than just stringifying inputs because numerical inputs aren't useful.\n",
    "bigdataset['content'] = bigdataset['content'].apply(lambda x: np.nan if type(x) != str else x )\n",
    "bigdataset.dropna(inplace=True)\n",
    "\n",
    "def preprocess_text(text):\n",
    "    # Remove newline characters\n",
    "    \n",
    "    text = re.sub(r'\\n+', ' ', text)\n",
    "    # Replacing URLs\n",
    "    text = re.sub(r'https?://\\S+', '', text)\n",
    "    # Replacing Hashtags\n",
    "    text = re.sub(r'#\\w+', '', text)\n",
    "    return text.strip()\n",
    "\n",
    "def counthash(text):\n",
    "    num_hashtags = len(re.findall(r'#\\w+', text))\n",
    "    return num_hashtags\n",
    "def countlinks(text):\n",
    "    num_links = len(re.findall(r'https?://\\S+', text))\n",
    "    return num_links\n",
    "#Applying function\n",
    "bigdataset['hash'] = bigdataset['content'].apply(counthash)\n",
    "bigdataset['link'] = bigdataset['content'].apply(counthash)\n",
    "bigdataset['content'] = bigdataset['content'].apply(preprocess_text)\n",
    "\n",
    "# bigdataset[]\n",
    "bigdataset.reset_index(inplace=True,drop=True)\n"
   ]
  },
  {
   "cell_type": "code",
   "execution_count": null,
   "metadata": {},
   "outputs": [],
   "source": []
  },
  {
   "cell_type": "code",
   "execution_count": null,
   "metadata": {},
   "outputs": [],
   "source": []
  },
  {
   "cell_type": "code",
   "execution_count": 13,
   "metadata": {},
   "outputs": [
    {
     "data": {
      "text/plain": [
       "'US says seizes tanker used to evade North Korea sanctions'"
      ]
     },
     "execution_count": 13,
     "metadata": {},
     "output_type": "execute_result"
    }
   ],
   "source": [
    "bigdataset['content'][0]"
   ]
  },
  {
   "cell_type": "code",
   "execution_count": 14,
   "metadata": {},
   "outputs": [
    {
     "data": {
      "image/png": "[encoded data removed]",
      "text/plain": [
       "<Figure size 640x480 with 1 Axes>"
      ]
     },
     "metadata": {},
     "output_type": "display_data"
    }
   ],
   "source": [
    "x= pd.to_numeric(bigdataset['troll'].value_counts(), downcast='integer')\n",
    "plt.bar(x.index,x)\n",
    "plt.xticks([0, 1])\n",
    "plt.xlabel(\"Genuine or Troll\")\n",
    "plt.ylabel(\"Tweets (In Millions)\")\n",
    "plt.title(\"Comparison of Genuine & Troll tweets\")\n",
    "plt.show()"
   ]
  },
  {
   "cell_type": "code",
   "execution_count": 15,
   "metadata": {},
   "outputs": [],
   "source": [
    "\n",
    "\n",
    "# def countHash(series):\n",
    "#     count = 0\n",
    "#     for item in series:\n",
    "#         if '[HASH]' in item:\n",
    "#             count +=1\n",
    "#     return count\n",
    "\n",
    "# def countURL(series):\n",
    "#     count = 0\n",
    "#     for item in series:\n",
    "#         if '[LINK]' in item:\n",
    "#             count +=1\n",
    "#     return count\n",
    "\n",
    "# def countCAPS(series,t=0):\n",
    "#     count = 0\n",
    "#     for item in series:\n",
    "#         words = item.split()\n",
    "#         if sum(1 for word in words if word.isupper()) > t:\n",
    "#             count += 1\n",
    "#     return count\n",
    "\n",
    "\n",
    "\n",
    "# def pie(data:list,labels,title,func):\n",
    "#     trollfunc,genfunc = func(data[0]),func(data[1])\n",
    "#     plt.pie([trollfunc,genfunc],labels = labels,shadow=True)\n",
    "#     plt.title(title)\n",
    "#     plt.show()\n",
    "\n",
    "# #Get 80% of the genuine tweets\n",
    "# num_items = round(len(genuine) * 0.8)\n",
    "# train = bigdataset.groupby('troll').sample(num_items,random_state=1)\n",
    "\n",
    "\n",
    "# trolls = train.loc[train['troll'] == 1.0]['content']\n",
    "# genuine = train.loc[train['troll'] == 0.0]['content']\n",
    "# trollhash = countHash(trolls)\n",
    "# genhash = countHash(genuine)\n",
    "\n",
    "\n",
    "# pie([trolls,genuine],['Troll','Genuine'],\"Proportions of Hashtags present in tweets\",countHash)\n",
    "\n",
    "# pie([trolls,genuine],['Troll','Genuine'],\"Proportions of URLs present in tweets\",countURL)\n",
    "\n",
    "# pie([trolls,genuine],['Troll','Genuine'],\"Proportions of Capital Words present in tweets\",countCAPS)\n",
    "\n",
    "# # train.plot(data=\"hash\"kind='bar',)\n",
    "\n",
    "# total = trollhash + genhash\n",
    "\n",
    "# print(f\"Troll hash percentage: {trollhash/total}\")\n",
    "# print(f\"Genuine hash percentage: {genhash/total}\")\n",
    "\n",
    "\n",
    "\n",
    "\n",
    "\n",
    "\n",
    "\n",
    "# print(countCAPS(trolls)/len(trolls))\n"
   ]
  },
  {
   "cell_type": "code",
   "execution_count": 16,
   "metadata": {},
   "outputs": [
    {
     "data": {
      "text/plain": [
       "followers    5.303305\n",
       "content              \n",
       "retweet             1\n",
       "troll             1.0\n",
       "hash                1\n",
       "link                1\n",
       "Name: 1336245, dtype: object"
      ]
     },
     "execution_count": 16,
     "metadata": {},
     "output_type": "execute_result"
    }
   ],
   "source": [
    "bigdataset.iloc[1336245]"
   ]
  },
  {
   "cell_type": "code",
   "execution_count": 17,
   "metadata": {},
   "outputs": [],
   "source": [
    "bigdataset.to_csv(\"data/transformed/data.csv\")\n",
    "\n",
    "\n",
    "bigdataset = pd.read_csv(\"data/transformed/data.csv\")\n",
    "bigdataset.dropna(inplace=True)\n",
    "bigdataset.to_csv(\"data/transformed/data.csv\")\n"
   ]
  },
  {
   "cell_type": "code",
   "execution_count": null,
   "metadata": {},
   "outputs": [
    {
     "data": {
      "text/plain": [
       "[101,\n",
       " 1646,\n",
       " 1867,\n",
       " 16414,\n",
       " 1116,\n",
       " 24096,\n",
       " 1215,\n",
       " 1106,\n",
       " 174,\n",
       " 27923,\n",
       " 1456,\n",
       " 3577,\n",
       " 19344,\n",
       " 102]"
      ]
     },
     "execution_count": 64,
     "metadata": {},
     "output_type": "execute_result"
    }
   ],
   "source": [
    "tokenizer = BertTokenizer.from_pretrained('bert-base-cased')\n",
    "\n",
    "text = bigdataset['content'][0]\n",
    "# text = bigdataset['content'][0].apply(tokenizer.encode)\n",
    "encoded_input = tokenizer.encode(text, add_special_tokens=True)\n",
    "encoded_input"
   ]
  }
 ],
 "metadata": {
  "kernelspec": {
   "display_name": "Python 3",
   "language": "python",
   "name": "python3"
  },
  "language_info": {
   "codemirror_mode": {
    "name": "ipython",
    "version": 3
   },
   "file_extension": ".py",
   "mimetype": "text/x-python",
   "name": "python",
   "nbconvert_exporter": "python",
   "pygments_lexer": "ipython3",
   "version": "3.11.5"
  }
 },
 "nbformat": 4,
 "nbformat_minor": 2
}
